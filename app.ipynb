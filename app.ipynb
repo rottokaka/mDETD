{
 "cells": [
  {
   "cell_type": "code",
   "execution_count": null,
   "metadata": {},
   "outputs": [],
   "source": [
    "#%pip install pyngrok"
   ]
  },
  {
   "cell_type": "code",
   "execution_count": null,
   "metadata": {},
   "outputs": [],
   "source": [
    "from pyngrok import ngrok\n",
    "from flask import Flask"
   ]
  },
  {
   "cell_type": "code",
   "execution_count": null,
   "metadata": {},
   "outputs": [],
   "source": [
    "ngrok.set_auth_token('2Onw2IbkzfgZOXhG4lvc38FJMzJ_86DDpw5XgNW4S4ATXkVJr')\n",
    "public_url = ngrok.connect(5000).public_url"
   ]
  },
  {
   "cell_type": "code",
   "execution_count": null,
   "metadata": {},
   "outputs": [],
   "source": [
    "print(public_url)"
   ]
  },
  {
   "cell_type": "code",
   "execution_count": null,
   "metadata": {},
   "outputs": [],
   "source": [
    "app = Flask(__name__)\n",
    "ngrok.set_auth_token('2Onw2IbkzfgZOXhG4lvc38FJMzJ_86DDpw5XgNW4S4ATXkVJr')\n",
    "public_url = ngrok.connect(5000).public_url\n",
    "@app.route('/')\n",
    "def home():\n",
    "  return f\"Running flask in google collab!\"\n",
    "print(f\"To access global link pleas click {public_url}\")\n",
    "app.run(port=5000)"
   ]
  }
 ],
 "metadata": {
  "language_info": {
   "name": "python"
  },
  "orig_nbformat": 4
 },
 "nbformat": 4,
 "nbformat_minor": 2
}
